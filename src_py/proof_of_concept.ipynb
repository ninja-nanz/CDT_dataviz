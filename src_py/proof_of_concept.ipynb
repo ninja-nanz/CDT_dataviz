{
 "cells": [
  {
   "cell_type": "code",
   "execution_count": 3,
   "metadata": {},
   "outputs": [],
   "source": [
    "import time\n",
    "import pandas as pd\n",
    "from zomatopy import Zomato\n",
    "#get_categories\n",
    "#get_city_ID\n",
    "#get_city_name\n",
    "#get_collections\n",
    "#get_cuisines\n",
    "#get_establishment_types\n",
    "#get_nearby_restaurants\n",
    "#get_restaurant\n",
    "#restaurant_search\n",
    "\n",
    "zconfig = {\"user_key\":\"2dde89df168a9311ecd9f1459126144c\"}"
   ]
  },
  {
   "cell_type": "markdown",
   "metadata": {},
   "source": [
    "## READING DATA"
   ]
  },
  {
   "cell_type": "code",
   "execution_count": null,
   "metadata": {},
   "outputs": [],
   "source": [
    "zcities_df = pd.read_pickle('../results/zcities_df.pkl')\n",
    "cscities_df = pd.read_pickle('../results/cscities_df.pkl')"
   ]
  },
  {
   "cell_type": "code",
   "execution_count": null,
   "metadata": {},
   "outputs": [],
   "source": [
    "zcities_df.head()"
   ]
  },
  {
   "cell_type": "code",
   "execution_count": null,
   "metadata": {},
   "outputs": [],
   "source": [
    "ver = zcities_df[zcities_df.zcity_id==-9999]"
   ]
  },
  {
   "cell_type": "code",
   "execution_count": null,
   "metadata": {},
   "outputs": [],
   "source": [
    "ver"
   ]
  },
  {
   "cell_type": "code",
   "execution_count": null,
   "metadata": {},
   "outputs": [],
   "source": [
    "ver['json'][0]['location_suggestions'][0]['state_code']"
   ]
  },
  {
   "cell_type": "code",
   "execution_count": null,
   "metadata": {},
   "outputs": [],
   "source": [
    "len(zcities_df)"
   ]
  },
  {
   "cell_type": "code",
   "execution_count": null,
   "metadata": {},
   "outputs": [],
   "source": [
    "def zomato_cities_query(cscities_df, zconfig):\n",
    "    zomato = Zomato(zconfig)\n",
    "    \n",
    "    city_queries = []\n",
    "    zcity_ids = []\n",
    "    jsons = []\n",
    "    for i, row in cscities_df.iterrows():\n",
    "        print(f\"city query {row.city_query}\")\n",
    "        \n",
    "        # Security saves of Zomato calls\n",
    "        if i>0 and (i % 10 == 0):\n",
    "            time.sleep(5)\n",
    "            zcities_df = pd.DataFrame.from_dict({'zcity_id': zcity_ids, 'json': jsons, \n",
    "                                                 'city_query': city_queries})\n",
    "            zcities_df.to_pickle('../results/zcities_df.pkl')\n",
    "        \n",
    "        try:\n",
    "            zcity_id = zomato.get_city_ID(city_name=row.city_query)\n",
    "\n",
    "            city_queries += [row.city_query]\n",
    "            zcity_ids += [zcity_id]\n",
    "            jsons += [zomato.json]\n",
    "        except:\n",
    "            print(f\"failed city query {row.city_query}\")\n",
    "            pass\n",
    "    \n",
    "    # Final save\n",
    "    zcities_df = pd.DataFrame.from_dict({'zcity_id': zcity_ids, 'json': jsons, \n",
    "                                         'city_query': city_queries})\n",
    "    zcities_df.to_pickle('../results/zcities_df.pkl')\n",
    "    return zcities_df\n",
    "\n",
    "zcities_df = zomato_cities_query(cscities_df, zconfig)"
   ]
  },
  {
   "cell_type": "code",
   "execution_count": null,
   "metadata": {},
   "outputs": [],
   "source": [
    "zcities_df = pd.read_pickle('../results/zcities_df.pkl')"
   ]
  },
  {
   "cell_type": "code",
   "execution_count": null,
   "metadata": {},
   "outputs": [],
   "source": [
    "zcities_df.head()"
   ]
  },
  {
   "cell_type": "code",
   "execution_count": null,
   "metadata": {},
   "outputs": [],
   "source": [
    "len(zcities_df)"
   ]
  },
  {
   "cell_type": "code",
   "execution_count": 4,
   "metadata": {},
   "outputs": [
    {
     "data": {
      "text/plain": [
       "(-9999, 'inpolis')"
      ]
     },
     "execution_count": 4,
     "metadata": {},
     "output_type": "execute_result"
    }
   ],
   "source": [
    "zomato = Zomato(zconfig)\n",
    "zomato.get_city_ID('Indianapolis')"
   ]
  },
  {
   "cell_type": "code",
   "execution_count": null,
   "metadata": {},
   "outputs": [],
   "source": []
  }
 ],
 "metadata": {
  "kernelspec": {
   "display_name": "dataviz",
   "language": "python",
   "name": "dataviz"
  },
  "language_info": {
   "codemirror_mode": {
    "name": "ipython",
    "version": 3
   },
   "file_extension": ".py",
   "mimetype": "text/x-python",
   "name": "python",
   "nbconvert_exporter": "python",
   "pygments_lexer": "ipython3",
   "version": "3.6.12"
  }
 },
 "nbformat": 4,
 "nbformat_minor": 4
}
