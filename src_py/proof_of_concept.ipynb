{
 "cells": [
  {
   "cell_type": "code",
   "execution_count": 2,
   "metadata": {},
   "outputs": [],
   "source": [
    "import time\n",
    "import pandas as pd\n",
    "from zomatopy import Zomato\n",
    "#get_categories\n",
    "#get_city_ID\n",
    "#get_city_name\n",
    "#get_collections\n",
    "#get_cuisines\n",
    "#get_establishment_types\n",
    "#get_nearby_restaurants\n",
    "#get_restaurant\n",
    "#restaurant_search\n",
    "\n",
    "zconfig = {\"user_key\":\"2dde89df168a9311ecd9f1459126144c\"}"
   ]
  },
  {
   "cell_type": "markdown",
   "metadata": {},
   "source": [
    "## READING DATA"
   ]
  },
  {
   "cell_type": "code",
   "execution_count": 3,
   "metadata": {},
   "outputs": [],
   "source": [
    "zcities_df = pd.read_pickle('../results/zcities_df.pkl')\n",
    "cscities_df = pd.read_pickle('../results/cscities_df.pkl')"
   ]
  },
  {
   "cell_type": "code",
   "execution_count": 4,
   "metadata": {},
   "outputs": [
    {
     "data": {
      "text/html": [
       "<div>\n",
       "<style scoped>\n",
       "    .dataframe tbody tr th:only-of-type {\n",
       "        vertical-align: middle;\n",
       "    }\n",
       "\n",
       "    .dataframe tbody tr th {\n",
       "        vertical-align: top;\n",
       "    }\n",
       "\n",
       "    .dataframe thead th {\n",
       "        text-align: right;\n",
       "    }\n",
       "</style>\n",
       "<table border=\"1\" class=\"dataframe\">\n",
       "  <thead>\n",
       "    <tr style=\"text-align: right;\">\n",
       "      <th></th>\n",
       "      <th>zcity_id</th>\n",
       "      <th>json</th>\n",
       "      <th>city_query</th>\n",
       "    </tr>\n",
       "  </thead>\n",
       "  <tbody>\n",
       "    <tr>\n",
       "      <th>0</th>\n",
       "      <td>-9999</td>\n",
       "      <td>{'location_suggestions': [{'id': 280, 'name': ...</td>\n",
       "      <td>New York NY</td>\n",
       "    </tr>\n",
       "    <tr>\n",
       "      <th>1</th>\n",
       "      <td>281</td>\n",
       "      <td>{'location_suggestions': [{'id': 281, 'name': ...</td>\n",
       "      <td>Los Angeles CA</td>\n",
       "    </tr>\n",
       "    <tr>\n",
       "      <th>2</th>\n",
       "      <td>292</td>\n",
       "      <td>{'location_suggestions': [{'id': 292, 'name': ...</td>\n",
       "      <td>Chicago IL</td>\n",
       "    </tr>\n",
       "    <tr>\n",
       "      <th>3</th>\n",
       "      <td>277</td>\n",
       "      <td>{'location_suggestions': [{'id': 277, 'name': ...</td>\n",
       "      <td>Houston TX</td>\n",
       "    </tr>\n",
       "    <tr>\n",
       "      <th>4</th>\n",
       "      <td>301</td>\n",
       "      <td>{'location_suggestions': [{'id': 301, 'name': ...</td>\n",
       "      <td>Phoenix AZ</td>\n",
       "    </tr>\n",
       "  </tbody>\n",
       "</table>\n",
       "</div>"
      ],
      "text/plain": [
       "   zcity_id                                               json      city_query\n",
       "0     -9999  {'location_suggestions': [{'id': 280, 'name': ...     New York NY\n",
       "1       281  {'location_suggestions': [{'id': 281, 'name': ...  Los Angeles CA\n",
       "2       292  {'location_suggestions': [{'id': 292, 'name': ...      Chicago IL\n",
       "3       277  {'location_suggestions': [{'id': 277, 'name': ...      Houston TX\n",
       "4       301  {'location_suggestions': [{'id': 301, 'name': ...      Phoenix AZ"
      ]
     },
     "execution_count": 4,
     "metadata": {},
     "output_type": "execute_result"
    }
   ],
   "source": [
    "zcities_df.head()"
   ]
  },
  {
   "cell_type": "code",
   "execution_count": 5,
   "metadata": {},
   "outputs": [],
   "source": [
    "ver = zcities_df[zcities_df.zcity_id==-9999]"
   ]
  },
  {
   "cell_type": "code",
   "execution_count": 7,
   "metadata": {},
   "outputs": [
    {
     "data": {
      "text/html": [
       "<div>\n",
       "<style scoped>\n",
       "    .dataframe tbody tr th:only-of-type {\n",
       "        vertical-align: middle;\n",
       "    }\n",
       "\n",
       "    .dataframe tbody tr th {\n",
       "        vertical-align: top;\n",
       "    }\n",
       "\n",
       "    .dataframe thead th {\n",
       "        text-align: right;\n",
       "    }\n",
       "</style>\n",
       "<table border=\"1\" class=\"dataframe\">\n",
       "  <thead>\n",
       "    <tr style=\"text-align: right;\">\n",
       "      <th></th>\n",
       "      <th>zcity_id</th>\n",
       "      <th>json</th>\n",
       "      <th>city_query</th>\n",
       "    </tr>\n",
       "  </thead>\n",
       "  <tbody>\n",
       "    <tr>\n",
       "      <th>0</th>\n",
       "      <td>-9999</td>\n",
       "      <td>{'location_suggestions': [{'id': 280, 'name': ...</td>\n",
       "      <td>New York NY</td>\n",
       "    </tr>\n",
       "    <tr>\n",
       "      <th>16</th>\n",
       "      <td>-9999</td>\n",
       "      <td>{'location_suggestions': [{'id': 718, 'name': ...</td>\n",
       "      <td>Indianapolis IN</td>\n",
       "    </tr>\n",
       "    <tr>\n",
       "      <th>23</th>\n",
       "      <td>-9999</td>\n",
       "      <td>{'location_suggestions': [{'id': 8182, 'name':...</td>\n",
       "      <td>Oklahoma City OK</td>\n",
       "    </tr>\n",
       "    <tr>\n",
       "      <th>27</th>\n",
       "      <td>-9999</td>\n",
       "      <td>{'location_suggestions': [{'id': 484, 'name': ...</td>\n",
       "      <td>Louisville/Jefferson County KY</td>\n",
       "    </tr>\n",
       "    <tr>\n",
       "      <th>36</th>\n",
       "      <td>-9999</td>\n",
       "      <td>{'location_suggestions': [{'id': 5700, 'name':...</td>\n",
       "      <td>Kansas City MO</td>\n",
       "    </tr>\n",
       "    <tr>\n",
       "      <th>...</th>\n",
       "      <td>...</td>\n",
       "      <td>...</td>\n",
       "      <td>...</td>\n",
       "    </tr>\n",
       "    <tr>\n",
       "      <th>748</th>\n",
       "      <td>-9999</td>\n",
       "      <td>{'location_suggestions': [{'id': 1, 'name': 'D...</td>\n",
       "      <td>Kannapolis NC</td>\n",
       "    </tr>\n",
       "    <tr>\n",
       "      <th>749</th>\n",
       "      <td>-9999</td>\n",
       "      <td>{'location_suggestions': [{'id': 5963, 'name':...</td>\n",
       "      <td>Methuen Town MA</td>\n",
       "    </tr>\n",
       "    <tr>\n",
       "      <th>751</th>\n",
       "      <td>-9999</td>\n",
       "      <td>{'location_suggestions': [{'id': 3817, 'name':...</td>\n",
       "      <td>Plainfield NJ</td>\n",
       "    </tr>\n",
       "    <tr>\n",
       "      <th>757</th>\n",
       "      <td>-9999</td>\n",
       "      <td>{'location_suggestions': [{'id': 1854, 'name':...</td>\n",
       "      <td>Coral Gables FL</td>\n",
       "    </tr>\n",
       "    <tr>\n",
       "      <th>760</th>\n",
       "      <td>-9999</td>\n",
       "      <td>{'location_suggestions': [{'id': 9870, 'name':...</td>\n",
       "      <td>Troy NY</td>\n",
       "    </tr>\n",
       "  </tbody>\n",
       "</table>\n",
       "<p>290 rows × 3 columns</p>\n",
       "</div>"
      ],
      "text/plain": [
       "     zcity_id                                               json  \\\n",
       "0       -9999  {'location_suggestions': [{'id': 280, 'name': ...   \n",
       "16      -9999  {'location_suggestions': [{'id': 718, 'name': ...   \n",
       "23      -9999  {'location_suggestions': [{'id': 8182, 'name':...   \n",
       "27      -9999  {'location_suggestions': [{'id': 484, 'name': ...   \n",
       "36      -9999  {'location_suggestions': [{'id': 5700, 'name':...   \n",
       "..        ...                                                ...   \n",
       "748     -9999  {'location_suggestions': [{'id': 1, 'name': 'D...   \n",
       "749     -9999  {'location_suggestions': [{'id': 5963, 'name':...   \n",
       "751     -9999  {'location_suggestions': [{'id': 3817, 'name':...   \n",
       "757     -9999  {'location_suggestions': [{'id': 1854, 'name':...   \n",
       "760     -9999  {'location_suggestions': [{'id': 9870, 'name':...   \n",
       "\n",
       "                         city_query  \n",
       "0                       New York NY  \n",
       "16                  Indianapolis IN  \n",
       "23                 Oklahoma City OK  \n",
       "27   Louisville/Jefferson County KY  \n",
       "36                   Kansas City MO  \n",
       "..                              ...  \n",
       "748                   Kannapolis NC  \n",
       "749                 Methuen Town MA  \n",
       "751                   Plainfield NJ  \n",
       "757                 Coral Gables FL  \n",
       "760                         Troy NY  \n",
       "\n",
       "[290 rows x 3 columns]"
      ]
     },
     "execution_count": 7,
     "metadata": {},
     "output_type": "execute_result"
    }
   ],
   "source": [
    "ver"
   ]
  },
  {
   "cell_type": "code",
   "execution_count": 16,
   "metadata": {},
   "outputs": [
    {
     "data": {
      "text/plain": [
       "'NY'"
      ]
     },
     "execution_count": 16,
     "metadata": {},
     "output_type": "execute_result"
    }
   ],
   "source": [
    "ver['json'][0]['location_suggestions'][0]['state_code']"
   ]
  },
  {
   "cell_type": "code",
   "execution_count": 5,
   "metadata": {},
   "outputs": [
    {
     "data": {
      "text/plain": [
       "764"
      ]
     },
     "execution_count": 5,
     "metadata": {},
     "output_type": "execute_result"
    }
   ],
   "source": [
    "len(zcities_df)"
   ]
  },
  {
   "cell_type": "code",
   "execution_count": null,
   "metadata": {},
   "outputs": [],
   "source": [
    "def zomato_cities_query(cscities_df, zconfig):\n",
    "    zomato = Zomato(zconfig)\n",
    "    \n",
    "    city_queries = []\n",
    "    zcity_ids = []\n",
    "    jsons = []\n",
    "    for i, row in cscities_df.iterrows():\n",
    "        print(f\"city query {row.city_query}\")\n",
    "        \n",
    "        # Security saves of Zomato calls\n",
    "        if i>0 and (i % 10 == 0):\n",
    "            time.sleep(5)\n",
    "            zcities_df = pd.DataFrame.from_dict({'zcity_id': zcity_ids, 'json': jsons, \n",
    "                                                 'city_query': city_queries})\n",
    "            zcities_df.to_pickle('../results/zcities_df.pkl')\n",
    "        \n",
    "        try:\n",
    "            zcity_id = zomato.get_city_ID(city_name=row.city_query)\n",
    "\n",
    "            city_queries += [row.city_query]\n",
    "            zcity_ids += [zcity_id]\n",
    "            jsons += [zomato.json]\n",
    "        except:\n",
    "            print(f\"failed city query {row.city_query}\")\n",
    "            pass\n",
    "    \n",
    "    # Final save\n",
    "    zcities_df = pd.DataFrame.from_dict({'zcity_id': zcity_ids, 'json': jsons, \n",
    "                                         'city_query': city_queries})\n",
    "    zcities_df.to_pickle('../results/zcities_df.pkl')\n",
    "    return zcities_df\n",
    "\n",
    "zcities_df = zomato_cities_query(cscities_df, zconfig)"
   ]
  },
  {
   "cell_type": "code",
   "execution_count": null,
   "metadata": {},
   "outputs": [],
   "source": [
    "zcities_df = pd.read_pickle('../results/zcities_df.pkl')"
   ]
  },
  {
   "cell_type": "code",
   "execution_count": null,
   "metadata": {},
   "outputs": [],
   "source": [
    "zcities_df.head()"
   ]
  },
  {
   "cell_type": "code",
   "execution_count": null,
   "metadata": {},
   "outputs": [],
   "source": [
    "len(zcities_df)"
   ]
  },
  {
   "cell_type": "code",
   "execution_count": null,
   "metadata": {},
   "outputs": [],
   "source": [
    "zcities_df"
   ]
  },
  {
   "cell_type": "code",
   "execution_count": null,
   "metadata": {},
   "outputs": [],
   "source": []
  }
 ],
 "metadata": {
  "kernelspec": {
   "display_name": "dataviz",
   "language": "python",
   "name": "dataviz"
  }
 },
 "nbformat": 4,
 "nbformat_minor": 4
}
